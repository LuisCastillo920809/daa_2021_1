{
  "nbformat": 4,
  "nbformat_minor": 0,
  "metadata": {
    "colab": {
      "name": "02Diciembre_Tarea.ipynb",
      "provenance": [],
      "collapsed_sections": [],
      "authorship_tag": "ABX9TyMrz1gGH7K2C1HTzHqY2273",
      "include_colab_link": true
    },
    "kernelspec": {
      "name": "python3",
      "display_name": "Python 3"
    }
  },
  "cells": [
    {
      "cell_type": "markdown",
      "metadata": {
        "id": "view-in-github",
        "colab_type": "text"
      },
      "source": [
        "<a href=\"https://colab.research.google.com/github/LuisCastillo920809/daa_2021_1/blob/master/02Diciembre_Tarea.ipynb\" target=\"_parent\"><img src=\"https://colab.research.google.com/assets/colab-badge.svg\" alt=\"Open In Colab\"/></a>"
      ]
    },
    {
      "cell_type": "code",
      "metadata": {
        "colab": {
          "base_uri": "https://localhost:8080/"
        },
        "id": "i_nylaonJEwd",
        "outputId": "fd74feb7-2d3f-4d6e-8d01-f5197e972d5c"
      },
      "source": [
        "#Primer codigo Suma de elementos de una lista\n",
        "lista = [1,2,3,4,5,6,7,8,9,10]\n",
        "\n",
        "def sumaLista(lista):\n",
        "    \n",
        "  if lista == []:\n",
        "    print(\"La lista a quedado vacia despues de la suma\")\n",
        "    suma=0\n",
        "  else:\n",
        "    suma= lista[0] + sumaLista(lista[1:])\n",
        "    lista.pop(-1)\n",
        "  return suma\n",
        "\n",
        "print(f\"La suma de los elementos de la lista es: {sumaLista(lista)}\")"
      ],
      "execution_count": null,
      "outputs": [
        {
          "output_type": "stream",
          "text": [
            "La lista a quedado vacia despues de la suma\n",
            "La suma de los elementos de la lista es: 55\n"
          ],
          "name": "stdout"
        }
      ]
    },
    {
      "cell_type": "code",
      "metadata": {
        "colab": {
          "base_uri": "https://localhost:8080/"
        },
        "id": "I8m0HC8NJPYd",
        "outputId": "efbd5953-beee-40a0-90a8-a64938d4f360"
      },
      "source": [
        "#Segundo codigo Hacer un contador regresivo con recursión\n",
        "\n",
        "def Contador(numero):\n",
        "  if numero==0:\n",
        "    print(\"La regresion termino\")\n",
        "  else:\n",
        "    print(f\"\\t{numero}\")\n",
        "    Contador(numero-1)\n",
        "print(\"Comienza la regresion:\")\n",
        "Contador(20)\n"
      ],
      "execution_count": null,
      "outputs": [
        {
          "output_type": "stream",
          "text": [
            "Comienza la regresion:\n",
            "\t20\n",
            "\t19\n",
            "\t18\n",
            "\t17\n",
            "\t16\n",
            "\t15\n",
            "\t14\n",
            "\t13\n",
            "\t12\n",
            "\t11\n",
            "\t10\n",
            "\t9\n",
            "\t8\n",
            "\t7\n",
            "\t6\n",
            "\t5\n",
            "\t4\n",
            "\t3\n",
            "\t2\n",
            "\t1\n",
            "La regresion termino\n"
          ],
          "name": "stdout"
        }
      ]
    },
    {
      "cell_type": "code",
      "metadata": {
        "colab": {
          "base_uri": "https://localhost:8080/"
        },
        "id": "nDPX_OKNKTQl",
        "outputId": "327ff42f-f0ea-4694-dd78-04719df969ae"
      },
      "source": [
        "#Tercer pograma Sacar de un ADT pila el valor en la posición media\n",
        "\n",
        "lista=[1,2,3,4,5,6,7,8]\n",
        "\n",
        "def mitad(lista_1):\n",
        "    contador=0\n",
        "    if contador==0:\n",
        "        print(lista)\n",
        "        contador+=1\n",
        "    \n",
        "    enmedio= len(lista_1)//2\n",
        "    print(\"Elemento a sacar es: \"+str(lista_1[len(lista_1)//2 ])+\"\\n\")\n",
        "    lista_1.pop(enmedio)\n",
        "    enmedio=0\n",
        "    \n",
        "    if len(lista_1)>=3:\n",
        "        mitad(lista_1)\n",
        "\n",
        "mitad(lista)"
      ],
      "execution_count": 11,
      "outputs": [
        {
          "output_type": "stream",
          "text": [
            "[1, 2, 3, 4, 5, 6, 7, 8]\n",
            "Elemento a sacar es: 5\n",
            "\n",
            "[1, 2, 3, 4, 6, 7, 8]\n",
            "Elemento a sacar es: 4\n",
            "\n",
            "[1, 2, 3, 6, 7, 8]\n",
            "Elemento a sacar es: 6\n",
            "\n",
            "[1, 2, 3, 7, 8]\n",
            "Elemento a sacar es: 3\n",
            "\n",
            "[1, 2, 7, 8]\n",
            "Elemento a sacar es: 7\n",
            "\n",
            "[1, 2, 8]\n",
            "Elemento a sacar es: 2\n",
            "\n"
          ],
          "name": "stdout"
        }
      ]
    }
  ]
}