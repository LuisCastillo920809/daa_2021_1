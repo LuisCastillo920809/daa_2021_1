{
  "nbformat": 4,
  "nbformat_minor": 0,
  "metadata": {
    "colab": {
      "name": "02Diciembre_Tarea.ipynb",
      "provenance": [],
      "collapsed_sections": [],
      "authorship_tag": "ABX9TyMgx5XN1eASBigRzk6ICzvd",
      "include_colab_link": true
    },
    "kernelspec": {
      "name": "python3",
      "display_name": "Python 3"
    }
  },
  "cells": [
    {
      "cell_type": "markdown",
      "metadata": {
        "id": "view-in-github",
        "colab_type": "text"
      },
      "source": [
        "<a href=\"https://colab.research.google.com/github/LuisCastillo920809/daa_2021_1/blob/master/02Diciembre_Tarea.ipynb\" target=\"_parent\"><img src=\"https://colab.research.google.com/assets/colab-badge.svg\" alt=\"Open In Colab\"/></a>"
      ]
    },
    {
      "cell_type": "code",
      "metadata": {
        "colab": {
          "base_uri": "https://localhost:8080/"
        },
        "id": "i_nylaonJEwd",
        "outputId": "fd74feb7-2d3f-4d6e-8d01-f5197e972d5c"
      },
      "source": [
        "#Primer codigo Suma de elementos de una lista\n",
        "lista = [1,2,3,4,5,6,7,8,9,10]\n",
        "\n",
        "def sumaLista(lista):\n",
        "    \n",
        "  if lista == []:\n",
        "    print(\"La lista a quedado vacia despues de la suma\")\n",
        "    suma=0\n",
        "  else:\n",
        "    suma= lista[0] + sumaLista(lista[1:])\n",
        "    lista.pop(-1)\n",
        "  return suma\n",
        "\n",
        "print(f\"La suma de los elementos de la lista es: {sumaLista(lista)}\")"
      ],
      "execution_count": null,
      "outputs": [
        {
          "output_type": "stream",
          "text": [
            "La lista a quedado vacia despues de la suma\n",
            "La suma de los elementos de la lista es: 55\n"
          ],
          "name": "stdout"
        }
      ]
    },
    {
      "cell_type": "code",
      "metadata": {
        "colab": {
          "base_uri": "https://localhost:8080/"
        },
        "id": "I8m0HC8NJPYd",
        "outputId": "efbd5953-beee-40a0-90a8-a64938d4f360"
      },
      "source": [
        "#Segundo codigo Hacer un contador regresivo con recursión\n",
        "\n",
        "def Contador(numero):\n",
        "  if numero==0:\n",
        "    print(\"La regresion termino\")\n",
        "  else:\n",
        "    print(f\"\\t{numero}\")\n",
        "    Contador(numero-1)\n",
        "print(\"Comienza la regresion:\")\n",
        "Contador(20)\n"
      ],
      "execution_count": null,
      "outputs": [
        {
          "output_type": "stream",
          "text": [
            "Comienza la regresion:\n",
            "\t20\n",
            "\t19\n",
            "\t18\n",
            "\t17\n",
            "\t16\n",
            "\t15\n",
            "\t14\n",
            "\t13\n",
            "\t12\n",
            "\t11\n",
            "\t10\n",
            "\t9\n",
            "\t8\n",
            "\t7\n",
            "\t6\n",
            "\t5\n",
            "\t4\n",
            "\t3\n",
            "\t2\n",
            "\t1\n",
            "La regresion termino\n"
          ],
          "name": "stdout"
        }
      ]
    },
    {
      "cell_type": "code",
      "metadata": {
        "colab": {
          "base_uri": "https://localhost:8080/"
        },
        "id": "nDPX_OKNKTQl",
        "outputId": "21bbd93d-1c62-42e3-f5d2-d6590d35d4fe"
      },
      "source": [
        "#Tercer pograma Sacar de un ADT pila el valor en la posición media\n",
        "\n",
        "lista=[1,2,3,4,5,6,7,8,9]\n",
        "\n",
        "def ADT(lista):\n",
        "  print(f\"La lista original es:\\n\\t {lista}\\n\")\n",
        "  cadena= len(lista)//2\n",
        "  print(f\"El elemento medio de la lista es: {lista[cadena]}\\n\")\n",
        "  lista.pop(cadena)\n",
        "  print(f\"La nueva cadena es:\\n\\t {lista}\")\n",
        "\n",
        "ADT(lista)"
      ],
      "execution_count": 30,
      "outputs": [
        {
          "output_type": "stream",
          "text": [
            "La lista original es:\n",
            "\t [1, 2, 3, 4, 5, 6, 7, 8, 9]\n",
            "\n",
            "El elemento medio de la lista es: 5\n",
            "\n",
            "La nueva cadena es:\n",
            "\t [1, 2, 3, 4, 6, 7, 8, 9]\n"
          ],
          "name": "stdout"
        }
      ]
    }
  ]
}