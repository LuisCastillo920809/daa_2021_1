{
  "nbformat": 4,
  "nbformat_minor": 0,
  "metadata": {
    "colab": {
      "name": "6Diciembre_TareaRecursiva.ipynb",
      "provenance": [],
      "authorship_tag": "ABX9TyPhbXMgzoCUVQtgi8Y0e2mA",
      "include_colab_link": true
    },
    "kernelspec": {
      "name": "python3",
      "display_name": "Python 3"
    }
  },
  "cells": [
    {
      "cell_type": "markdown",
      "metadata": {
        "id": "view-in-github",
        "colab_type": "text"
      },
      "source": [
        "<a href=\"https://colab.research.google.com/github/LuisCastillo920809/daa_2021_1/blob/master/6Diciembre_TareaRecursiva.ipynb\" target=\"_parent\"><img src=\"https://colab.research.google.com/assets/colab-badge.svg\" alt=\"Open In Colab\"/></a>"
      ]
    },
    {
      "cell_type": "code",
      "metadata": {
        "colab": {
          "base_uri": "https://localhost:8080/"
        },
        "id": "xILwNnZ_Kwfv",
        "outputId": "f6ebd4e0-2fdc-4a04-f44d-5c5a72fe9dd6"
      },
      "source": [
        "alumno1={'id':2, 'nombre':\"Juan\" , 'carrera':\"ICO\", 'promedio':7.67}\n",
        "alumno2={'id':4, 'nombre':\"Rocio\" , 'carrera':\"ICI\", 'promedio':8.67}\n",
        "alumno3={'id':5, 'nombre':\"Diego\" , 'carrera':\"DER\", 'promedio':8.98}\n",
        "alumno4={'id':7, 'nombre':\"May\" , 'carrera':\"ICI\", 'promedio':9.87}\n",
        "alumno5={'id':9, 'nombre':\"Rob\" , 'carrera':\"IME\", 'promedio':10.00}\n",
        "alumno6={'id':10, 'nombre':\"Santi\" , 'carrera':\"ICO\", 'promedio':5.37}\n",
        "alumno7={'id':14, 'nombre':\"Moy\" , 'carrera':\"IME\", 'promedio':6.85}\n",
        "alumno8={'id':16, 'nombre':\"Diana\" , 'carrera':\"DER\", 'promedio':9.99}\n",
        "alumno9={'id':19, 'nombre':\"Zoila\" , 'carrera':\"ICO\", 'promedio':8.22}\n",
        "alumno10={'id':22, 'nombre':\"Armando\" , 'carrera':\"ICO\", 'promedio':7.32}\n",
        "\n",
        "\n",
        "bd = []\n",
        "bd.append(alumno1)\n",
        "bd.append(alumno2)\n",
        "bd.append(alumno3)\n",
        "bd.append(alumno4)\n",
        "bd.append(alumno5)\n",
        "bd.append(alumno6)\n",
        "bd.append(alumno7)\n",
        "bd.append(alumno8)\n",
        "bd.append(alumno9)\n",
        "bd.append(alumno10)\n",
        "\n",
        "\n",
        "contador= 0\n",
        "def buscar(bd, dato, contador):\n",
        "    try:\n",
        "        if dato == bd[contador]['id']:\n",
        "            print(f\"{bd[contador]['nombre']} estudia la carrera {bd[contador]['carrera']} y tiene un promedio de {bd[contador]['promedio']}\")\n",
        "        else:\n",
        "            contador+=1\n",
        "            buscar(bd, dato, contador)\n",
        "    except:\n",
        "        print(\"El alumno no existe en la base de datos\")\n",
        "\n",
        "opcion=1\n",
        "while opcion !=2 or opcion > 2:\n",
        "    dato= int(input(\"Cual es el ID que deseas buscar:\\n\"))\n",
        "    buscar(bd, dato, contador)\n",
        "    opcion=int(input(\"Deseas buscar otro ID: 1.SI 2.NO\\n\"))"
      ],
      "execution_count": 2,
      "outputs": [
        {
          "output_type": "stream",
          "text": [
            "Cual es el ID que deseas buscar:\n",
            "16\n",
            "Diana estudia la carrera DER y tiene un promedio de 9.99\n",
            "Deseas buscar otro ID: 1.SI 2.NO\n",
            "1\n",
            "Cual es el ID que deseas buscar:\n",
            "15\n",
            "El alumno no existe en la base de datos\n",
            "Deseas buscar otro ID: 1.SI 2.NO\n",
            "2\n"
          ],
          "name": "stdout"
        }
      ]
    }
  ]
}