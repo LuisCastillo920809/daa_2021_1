{
  "nbformat": 4,
  "nbformat_minor": 0,
  "metadata": {
    "colab": {
      "name": "19OctubreTarea.ipynb",
      "provenance": [],
      "authorship_tag": "ABX9TyNpklSDaeuT86PCfE9GwjXZ",
      "include_colab_link": true
    },
    "kernelspec": {
      "name": "python3",
      "display_name": "Python 3"
    }
  },
  "cells": [
    {
      "cell_type": "markdown",
      "metadata": {
        "id": "view-in-github",
        "colab_type": "text"
      },
      "source": [
        "<a href=\"https://colab.research.google.com/github/LuisCastillo920809/daa_2021_1/blob/master/19OctubreTarea.ipynb\" target=\"_parent\"><img src=\"https://colab.research.google.com/assets/colab-badge.svg\" alt=\"Open In Colab\"/></a>"
      ]
    },
    {
      "cell_type": "markdown",
      "metadata": {
        "id": "OLvBOs_JqDya"
      },
      "source": [
        "![image.png](data:image/png;base64,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)"
      ]
    },
    {
      "cell_type": "code",
      "metadata": {
        "id": "aINA2tKiqDB4",
        "outputId": "c7f09f72-6fbc-4249-cb55-36571b748a96",
        "colab": {
          "base_uri": "https://localhost:8080/",
          "height": 727
        }
      },
      "source": [
        "\n",
        "def ejemplo4(n):\n",
        "  print(\"Nivel1\")\n",
        "  count =0\n",
        "  i=n\n",
        "  while i >= 1:\n",
        "    print(\"Nivel2\")\n",
        "    count+=1\n",
        "    i=i//2\n",
        "  basura=3+2\n",
        "  return count\n",
        "\n",
        "\n",
        "print(\"------------Comienza la prueba----------------------\")\n",
        "variable= ejemplo4(6)\n",
        "print(f\"El numero de procesos fueron: {variable}\")\n",
        "print(\"---------------------------------------\")\n",
        "variable= ejemplo4(13)\n",
        "print(f\"El numero de procesos fueron: {variable}\")\n",
        "print(\"---------------------------------------\")\n",
        "variable= ejemplo4(25)\n",
        "print(f\"El numero de procesos fueron: {variable}\")\n",
        "print(\"---------------------------------------\")\n",
        "variable= ejemplo4(50)\n",
        "print(f\"El numero de procesos fueron: {variable}\")\n",
        "print(\"---------------------------------------\")\n",
        "variable= ejemplo4(100)\n",
        "print(f\"El numero de procesos fueron: {variable}\")\n"
      ],
      "execution_count": 1,
      "outputs": [
        {
          "output_type": "stream",
          "text": [
            "------------Comienza la prueba----------------------\n",
            "Nivel1\n",
            "Nivel2\n",
            "Nivel2\n",
            "Nivel2\n",
            "El numero de procesos fueron: 3\n",
            "---------------------------------------\n",
            "Nivel1\n",
            "Nivel2\n",
            "Nivel2\n",
            "Nivel2\n",
            "Nivel2\n",
            "El numero de procesos fueron: 4\n",
            "---------------------------------------\n",
            "Nivel1\n",
            "Nivel2\n",
            "Nivel2\n",
            "Nivel2\n",
            "Nivel2\n",
            "Nivel2\n",
            "El numero de procesos fueron: 5\n",
            "---------------------------------------\n",
            "Nivel1\n",
            "Nivel2\n",
            "Nivel2\n",
            "Nivel2\n",
            "Nivel2\n",
            "Nivel2\n",
            "Nivel2\n",
            "El numero de procesos fueron: 6\n",
            "---------------------------------------\n",
            "Nivel1\n",
            "Nivel2\n",
            "Nivel2\n",
            "Nivel2\n",
            "Nivel2\n",
            "Nivel2\n",
            "Nivel2\n",
            "Nivel2\n",
            "El numero de procesos fueron: 7\n"
          ],
          "name": "stdout"
        }
      ]
    }
  ]
}