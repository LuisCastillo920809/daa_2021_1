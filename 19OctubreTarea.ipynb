{
  "nbformat": 4,
  "nbformat_minor": 0,
  "metadata": {
    "colab": {
      "name": "19OctubreTarea.ipynb",
      "provenance": [],
      "authorship_tag": "ABX9TyOvfQXbJWDJVB2yDCCaErdj",
      "include_colab_link": true
    },
    "kernelspec": {
      "name": "python3",
      "display_name": "Python 3"
    }
  },
  "cells": [
    {
      "cell_type": "markdown",
      "metadata": {
        "id": "view-in-github",
        "colab_type": "text"
      },
      "source": [
        "<a href=\"https://colab.research.google.com/github/LuisCastillo920809/daa_2021_1/blob/master/19OctubreTarea.ipynb\" target=\"_parent\"><img src=\"https://colab.research.google.com/assets/colab-badge.svg\" alt=\"Open In Colab\"/></a>"
      ]
    },
    {
      "cell_type": "markdown",
      "metadata": {
        "id": "OLvBOs_JqDya"
      },
      "source": [
        "![image.png](data:image/png;base64,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)"
      ]
    },
    {
      "cell_type": "code",
      "metadata": {
        "id": "aINA2tKiqDB4",
        "outputId": "c40127ba-e623-4bd7-d47d-a7448958fbe6",
        "colab": {
          "base_uri": "https://localhost:8080/",
          "height": 781
        }
      },
      "source": [
        "\n",
        "def ejemplo4(n):\n",
        "  print(\"Nivel1\")\n",
        "  count =0\n",
        "  i=n\n",
        "  while i >= 1:\n",
        "    print(\"Nivel2\")\n",
        "    count+=1\n",
        "    i=i//2\n",
        "  basura=3+2\n",
        "  return count\n",
        "\n",
        "\n",
        "print(\"------------Comienza la prueba----------------------\")\n",
        "variable= ejemplo4(5)\n",
        "print(f\"El numero de procesos fueron: {variable}\")\n",
        "print(\"---------------------------------------\")\n",
        "variable= ejemplo4(10)\n",
        "print(f\"El numero de procesos fueron: {variable}\")\n",
        "print(\"---------------------------------------\")\n",
        "variable= ejemplo4(15)\n",
        "print(f\"El numero de procesos fueron: {variable}\")\n",
        "print(\"---------------------------------------\")\n",
        "variable= ejemplo4(100)\n",
        "print(f\"El numero de procesos fueron: {variable}\")\n",
        "print(\"---------------------------------------\")\n",
        "variable= ejemplo4(1000)\n",
        "print(f\"El numero de procesos fueron: {variable}\")\n"
      ],
      "execution_count": 2,
      "outputs": [
        {
          "output_type": "stream",
          "text": [
            "------------Comienza la prueba----------------------\n",
            "Nivel1\n",
            "Nivel2\n",
            "Nivel2\n",
            "Nivel2\n",
            "El numero de procesos fueron: 3\n",
            "---------------------------------------\n",
            "Nivel1\n",
            "Nivel2\n",
            "Nivel2\n",
            "Nivel2\n",
            "Nivel2\n",
            "El numero de procesos fueron: 4\n",
            "---------------------------------------\n",
            "Nivel1\n",
            "Nivel2\n",
            "Nivel2\n",
            "Nivel2\n",
            "Nivel2\n",
            "El numero de procesos fueron: 4\n",
            "---------------------------------------\n",
            "Nivel1\n",
            "Nivel2\n",
            "Nivel2\n",
            "Nivel2\n",
            "Nivel2\n",
            "Nivel2\n",
            "Nivel2\n",
            "Nivel2\n",
            "El numero de procesos fueron: 7\n",
            "---------------------------------------\n",
            "Nivel1\n",
            "Nivel2\n",
            "Nivel2\n",
            "Nivel2\n",
            "Nivel2\n",
            "Nivel2\n",
            "Nivel2\n",
            "Nivel2\n",
            "Nivel2\n",
            "Nivel2\n",
            "Nivel2\n",
            "El numero de procesos fueron: 10\n"
          ],
          "name": "stdout"
        }
      ]
    }
  ]
}