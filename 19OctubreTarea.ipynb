{
  "nbformat": 4,
  "nbformat_minor": 0,
  "metadata": {
    "colab": {
      "name": "19OctubreTarea.ipynb",
      "provenance": [],
      "authorship_tag": "ABX9TyNqwaRn00plN/seMEuLk/X/",
      "include_colab_link": true
    },
    "kernelspec": {
      "name": "python3",
      "display_name": "Python 3"
    }
  },
  "cells": [
    {
      "cell_type": "markdown",
      "metadata": {
        "id": "view-in-github",
        "colab_type": "text"
      },
      "source": [
        "<a href=\"https://colab.research.google.com/github/LuisCastillo920809/daa_2021_1/blob/master/19OctubreTarea.ipynb\" target=\"_parent\"><img src=\"https://colab.research.google.com/assets/colab-badge.svg\" alt=\"Open In Colab\"/></a>"
      ]
    },
    {
      "cell_type": "markdown",
      "metadata": {
        "id": "OLvBOs_JqDya"
      },
      "source": [
        "![image.png](data:image/png;base64,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)"
      ]
    },
    {
      "cell_type": "code",
      "metadata": {
        "id": "aINA2tKiqDB4",
        "outputId": "cd389baa-3e0e-4aab-8475-b0db1ecc4710",
        "colab": {
          "base_uri": "https://localhost:8080/",
          "height": 958
        }
      },
      "source": [
        "\n",
        "def ejemplo4(n):\n",
        "  print(\"Nivel1\")\n",
        "  count =0\n",
        "  i=n\n",
        "  while i >= 1:\n",
        "    print(\"Nivel2\")\n",
        "    count+=1\n",
        "    i=i//2\n",
        "  basura=3+2\n",
        "  return count\n",
        "\n",
        "\n",
        "print(\"------------Comienza la prueba----------------------\")\n",
        "variable= ejemplo4(5)\n",
        "print(f\"El numero 5 tuvo en total de procesos: {variable}\")\n",
        "print(\"---------------------------------------\")\n",
        "variable= ejemplo4(10)\n",
        "print(f\"El numero 10 tuvo en total de procesos {variable}\")\n",
        "print(\"---------------------------------------\")\n",
        "variable= ejemplo4(100)\n",
        "print(f\"El numero 100 tuvo en total de procesos {variable}\")\n",
        "print(\"---------------------------------------\")\n",
        "variable= ejemplo4(1000)\n",
        "print(f\"El numero 1000 tuvo en total de procesos {variable}\")\n",
        "print(\"---------------------------------------\")\n",
        "variable= ejemplo4(10000)\n",
        "print(f\"El numero 10000 tuvo en total de procesos {variable}\")\n"
      ],
      "execution_count": 4,
      "outputs": [
        {
          "output_type": "stream",
          "text": [
            "------------Comienza la prueba----------------------\n",
            "Nivel1\n",
            "Nivel2\n",
            "Nivel2\n",
            "Nivel2\n",
            "El numero 5 tuvo en total de procesos: 3\n",
            "---------------------------------------\n",
            "Nivel1\n",
            "Nivel2\n",
            "Nivel2\n",
            "Nivel2\n",
            "Nivel2\n",
            "El numero 10 tuvo en total de procesos 4\n",
            "---------------------------------------\n",
            "Nivel1\n",
            "Nivel2\n",
            "Nivel2\n",
            "Nivel2\n",
            "Nivel2\n",
            "Nivel2\n",
            "Nivel2\n",
            "Nivel2\n",
            "El numero 100 tuvo en total de procesos 7\n",
            "---------------------------------------\n",
            "Nivel1\n",
            "Nivel2\n",
            "Nivel2\n",
            "Nivel2\n",
            "Nivel2\n",
            "Nivel2\n",
            "Nivel2\n",
            "Nivel2\n",
            "Nivel2\n",
            "Nivel2\n",
            "Nivel2\n",
            "El numero 1000 tuvo en total de procesos 10\n",
            "---------------------------------------\n",
            "Nivel1\n",
            "Nivel2\n",
            "Nivel2\n",
            "Nivel2\n",
            "Nivel2\n",
            "Nivel2\n",
            "Nivel2\n",
            "Nivel2\n",
            "Nivel2\n",
            "Nivel2\n",
            "Nivel2\n",
            "Nivel2\n",
            "Nivel2\n",
            "Nivel2\n",
            "Nivel2\n",
            "El numero 10000 tuvo en total de procesos 14\n"
          ],
          "name": "stdout"
        }
      ]
    }
  ]
}