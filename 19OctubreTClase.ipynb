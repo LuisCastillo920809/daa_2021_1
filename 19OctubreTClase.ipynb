{
  "nbformat": 4,
  "nbformat_minor": 0,
  "metadata": {
    "colab": {
      "name": "19OctubreTClase.ipynb",
      "provenance": [],
      "authorship_tag": "ABX9TyNOwwK/6TJ3beVooXbL03/B",
      "include_colab_link": true
    },
    "kernelspec": {
      "name": "python3",
      "display_name": "Python 3"
    }
  },
  "cells": [
    {
      "cell_type": "markdown",
      "metadata": {
        "id": "view-in-github",
        "colab_type": "text"
      },
      "source": [
        "<a href=\"https://colab.research.google.com/github/LuisCastillo920809/daa_2021_1/blob/master/19OctubreTClase.ipynb\" target=\"_parent\"><img src=\"https://colab.research.google.com/assets/colab-badge.svg\" alt=\"Open In Colab\"/></a>"
      ]
    },
    {
      "cell_type": "code",
      "metadata": {
        "id": "gA578SiBll57",
        "outputId": "7089ad6d-3693-479c-cc8d-8e333c68c796",
        "colab": {
          "base_uri": "https://localhost:8080/",
          "height": 283
        }
      },
      "source": [
        "a2d = [[3,2,1],\n",
        "       [6,4,8],\n",
        "       [7,4,2]]\n",
        "n = 3\n",
        "print(a2d)\n",
        "\n",
        "total = 0  #asignación (1)\n",
        "print(\"nivel 1\")\n",
        "for renglon in range(n):\n",
        "  sumaRenglon= 0\n",
        "  print(\"nivel 2\")\n",
        "  for columna in range(n):\n",
        "    sumaRenglon += a2d[renglon][columna]\n",
        "    total += a2d[renglon][columna]\n",
        "    print(\"nivel 3\")\n",
        "print(total)"
      ],
      "execution_count": 1,
      "outputs": [
        {
          "output_type": "stream",
          "text": [
            "[[3, 2, 1], [6, 4, 8], [7, 4, 2]]\n",
            "nivel 1\n",
            "nivel 2\n",
            "nivel 3\n",
            "nivel 3\n",
            "nivel 3\n",
            "nivel 2\n",
            "nivel 3\n",
            "nivel 3\n",
            "nivel 3\n",
            "nivel 2\n",
            "nivel 3\n",
            "nivel 3\n",
            "nivel 3\n",
            "37\n"
          ],
          "name": "stdout"
        }
      ]
    }
  ]
}