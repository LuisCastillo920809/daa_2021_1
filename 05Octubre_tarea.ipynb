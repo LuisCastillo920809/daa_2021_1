{
  "nbformat": 4,
  "nbformat_minor": 0,
  "metadata": {
    "colab": {
      "name": "05Octubre.ipynb",
      "provenance": [],
      "authorship_tag": "ABX9TyNYwAcZwXZFOGy1dkRjIn06",
      "include_colab_link": true
    },
    "kernelspec": {
      "name": "python3",
      "display_name": "Python 3"
    }
  },
  "cells": [
    {
      "cell_type": "markdown",
      "metadata": {
        "id": "view-in-github",
        "colab_type": "text"
      },
      "source": [
        "<a href=\"https://colab.research.google.com/github/LuisCastillo920809/daa_2021_1/blob/master/05Octubre_tarea.ipynb\" target=\"_parent\"><img src=\"https://colab.research.google.com/assets/colab-badge.svg\" alt=\"Open In Colab\"/></a>"
      ]
    },
    {
      "cell_type": "code",
      "metadata": {
        "id": "_5IqVXDMUH44",
        "outputId": "556c5925-9c94-466f-e312-cd3d4b52f16a",
        "colab": {
          "base_uri": "https://localhost:8080/",
          "height": 34
        }
      },
      "source": [
        "class Stack():\n",
        "      def __init__(self):\n",
        "         self.__datos= []\n",
        "\n",
        "      def in_empty(self):\n",
        "         return len(self.__datos)==0\n",
        "\n",
        "      def get_top(self):\n",
        "         return self.__datos[-1]\n",
        "\n",
        "      def pop(self):\n",
        "         return self.__datos.pop()\n",
        "\n",
        "      def push(self, valor):\n",
        "         self.__datos.append(valor)\n",
        "\n",
        "      def get_length(self):\n",
        "         return len(self.__datos)\n",
        "\n",
        "      def to_String(self):\n",
        "         print(\"-------------------------\")\n",
        "         for ele in self.__datos[-1::-1]:\n",
        "             print(f\"{ele}\")\n",
        "         print(\"-------------------------\")\n",
        "\n",
        "\n",
        "\n",
        "pila1= Stack()\n",
        "\n",
        "f = open ('texto_java.txt','r')\n",
        "mensaje = f.read()\n",
        "contador_ent=0\n",
        "contador_sal=0\n",
        "for indice in range(0,len(mensaje)):\n",
        "    caracter= mensaje[indice]\n",
        "    if caracter == '(' or caracter =='[' or caracter =='{':\n",
        "           contador_ent+=1\n",
        "           pila1.push(\"@\")\n",
        "    if caracter == ')' or caracter ==']' or caracter == '}':\n",
        "         contador_sal+=1\n",
        "         if pila1.in_empty():\n",
        "             print(f\"el programa no esta balanceado verificalo\")\n",
        "             break\n",
        "         else:\n",
        "               pila1.pop()\n",
        "if contador_ent ==contador_sal:\n",
        "    print(f\"La pila esta vacia, el programa esta balanceado\")\n",
        "else:\n",
        "    print(f\"La pila no esta vacia, el programa no esta balanceado\")\n",
        "f.close()"
      ],
      "execution_count": 2,
      "outputs": [
        {
          "output_type": "stream",
          "text": [
            "La pila esta vacia, el programa esta balanceado\n"
          ],
          "name": "stdout"
        }
      ]
    }
  ]
}