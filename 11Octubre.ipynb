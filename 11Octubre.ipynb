{
  "nbformat": 4,
  "nbformat_minor": 0,
  "metadata": {
    "colab": {
      "name": "Untitled2.ipynb",
      "provenance": [],
      "authorship_tag": "ABX9TyNjmkR9SNMmZOb3cAuFZ51a",
      "include_colab_link": true
    },
    "kernelspec": {
      "name": "python3",
      "display_name": "Python 3"
    }
  },
  "cells": [
    {
      "cell_type": "markdown",
      "metadata": {
        "id": "view-in-github",
        "colab_type": "text"
      },
      "source": [
        "<a href=\"https://colab.research.google.com/github/LuisCastillo920809/daa_2021_1/blob/master/11Octubre.ipynb\" target=\"_parent\"><img src=\"https://colab.research.google.com/assets/colab-badge.svg\" alt=\"Open In Colab\"/></a>"
      ]
    },
    {
      "cell_type": "markdown",
      "metadata": {
        "id": "YTZGmPFLB1tT"
      },
      "source": [
        "##BUSQUEDA LINEAL\n",
        "Dado un cojunto de datos o ordenados, la busqueda lineal consiste en recorrer el conjunto de datos desde el inicio al final, moviendose de uno en uno hasta encontrar el elemento o llegar al final del conjunto.\n",
        "\n",
        "datos = [ 4,18,47,2,34,14,78,12,48,21,31,19,1,3,5]\n",
        "\n",
        "##BUSQUEDA BINARIA\n",
        "La busqueda binaria esta funciona sobre un conjunto de datos lineal ordenado consiste en dividir el conjunto en mitades y buscar en esa mitad si el elemento buscado no esta en la mitad preguntas si el elemento esta a la derecha o a la izquierda, haces la lista a la mitad correspondiente y repites el proceso L= [1, 2, 3, 4, 5, 12, 14, 18, 19, 21, 31, 34, 47, 48, 78]\n",
        "\n",
        "DER = longitud (L) -1\n",
        "\n",
        "IZQ = 0\n",
        "\n",
        "MID apuntara a la mitad del segmento de busqueda\n",
        "\n",
        "buscado = elemento a buscar\n",
        "\n",
        "- 1.Hacer DER = longitud (L) -1 \n",
        "- 2.Hacer IZQ = 0 \n",
        "- 3.Si IZQ > DER significa que hay un error en los datos \n",
        "- 4.Calcular MID = int((IZQ + DER)/2) \n",
        "- 5.Mientras L(MID) != buscado hacer\n",
        "\n",
        "\n",
        "\n",
        "1. Preguntar L(MID) > buscado\n",
        "- hacer DER = MID\n",
        "- de lo contrario\n",
        "- hacer IZQ = MID\n",
        "- preguntar (DER - IZQ) %2\n",
        "- MID = (IZQ + ( (DER - IZQ)/2 ) ) +1\n",
        "- de lo contrario\n",
        "- MID = (IZQ + ( (DER - IZQ)/2 ) )\n",
        "2.Rrturn MID"
      ]
    },
    {
      "cell_type": "code",
      "metadata": {
        "id": "F6vWcg78_o33",
        "outputId": "ea8460e5-4373-4111-fb4a-8a395c620858",
        "colab": {
          "base_uri": "https://localhost:8080/",
          "height": 265
        }
      },
      "source": [
        "\"\"\"\n",
        "Busqueda lineal.\n",
        "regresa la posicion del elemento 'buscado' si se encuentra en la lista\n",
        "regresa -1 si el elemento no existe dentro de la lista\n",
        "\"\"\"\n",
        "def busqueda_binaria( L , buscado):\n",
        "    indice = -1\n",
        "    IZQ = 0\n",
        "    DER = len(L)-1\n",
        "    MID = 0\n",
        "    while not(IZQ > DER):\n",
        "        MID = (IZQ + DER)//2\n",
        "        if(L[MID] < buscado ):\n",
        "            IZQ = MID + 1 \n",
        "        else:\n",
        "            DER = MID - 1\n",
        "        print(f\"Comparar buscado:{buscado} con {L[MID]}\")\n",
        "        if L[MID] == buscado:\n",
        "            indice = MID\n",
        "            break\n",
        "    return indice\n",
        "    \n",
        "\n",
        "\"Busqueda binaria recursiva\"\n",
        " \n",
        "def busqueda_binaria_recursiva( L , buscado, IZQ , DER):\n",
        "    MID = (IZQ + DER) //2\n",
        "    if IZQ >= DER:\n",
        "        return -1\n",
        "    if L[MID] == buscado: \n",
        "        return MID\n",
        "    elif L[MID] < buscado:\n",
        "        return busqueda_binaria_recursiva(L,buscado,MID+1,DER)\n",
        "    else:\n",
        "        return busqueda_binaria_recursiva(L,buscado,IZQ,MID)\n",
        "\n",
        "def main():\n",
        "  datos=[4,18,47,2,34,14,78,12,48,21,31,19,1,3,5]\n",
        "  dato=int(input(\"¿Que valor quieres buscar?\\n\"))\n",
        "  resultado= busqueda_binaria(datos,dato)\n",
        "  print(\"Resultado: \", resultado)\n",
        "  print(\"Busqueda de lista ordenada\")\n",
        "  datos.sort()\n",
        "  print(datos)\n",
        "  resultado= busqueda_binaria(datos,dato)\n",
        "  print(\"Resultado: \", str(resultado+1))\n",
        "  print(\"busqueda binaria\")\n",
        "  posicion = busqueda_binaria_recursiva( datos, dato,0,len(datos))\n",
        "  print(f\"El elemento {dato} esta en la posición {posicion+1} de la lista\")\n",
        "main()"
      ],
      "execution_count": 10,
      "outputs": [
        {
          "output_type": "stream",
          "text": [
            "¿Que valor quieres buscar?21\n",
            "Comparar buscado:21 con 12\n",
            "Comparar buscado:21 con 19\n",
            "Comparar buscado:21 con 3\n",
            "Comparar buscado:21 con 5\n",
            "Resultado:  -1\n",
            "Busqueda de lista ordenada\n",
            "[1, 2, 3, 4, 5, 12, 14, 18, 19, 21, 31, 34, 47, 48, 78]\n",
            "Comparar buscado:21 con 18\n",
            "Comparar buscado:21 con 34\n",
            "Comparar buscado:21 con 21\n",
            "Resultado:  10\n",
            "busqueda binaria\n",
            "El elemento 21 esta en la posición 10 de la lista\n"
          ],
          "name": "stdout"
        }
      ]
    }
  ]
}