{
  "nbformat": 4,
  "nbformat_minor": 0,
  "metadata": {
    "colab": {
      "name": "28septiembre.ipynb",
      "provenance": [],
      "authorship_tag": "ABX9TyNnEP3Me+HGh1qxrNrGzWJM",
      "include_colab_link": true
    },
    "kernelspec": {
      "name": "python3",
      "display_name": "Python 3"
    }
  },
  "cells": [
    {
      "cell_type": "markdown",
      "metadata": {
        "id": "view-in-github",
        "colab_type": "text"
      },
      "source": [
        "<a href=\"https://colab.research.google.com/github/LuisCastillo920809/daa_2021_1/blob/master/28septiembre.ipynb\" target=\"_parent\"><img src=\"https://colab.research.google.com/assets/colab-badge.svg\" alt=\"Open In Colab\"/></a>"
      ]
    },
    {
      "cell_type": "markdown",
      "metadata": {
        "id": "CFcpnNfQCsxo"
      },
      "source": [
        "# Seccion 1"
      ]
    },
    {
      "cell_type": "markdown",
      "metadata": {
        "id": "3w902LA8C2mP"
      },
      "source": [
        "En este archivo aprenderemos a programar en python con la herramienta de google \n",
        "Tambien aprenderemos a guardarlo en nuestro repositorio github\n"
      ]
    },
    {
      "cell_type": "markdown",
      "metadata": {
        "id": "bw7lrdXyEFSZ"
      },
      "source": [
        "**Hola**\n",
        "\n",
        "_italica_\n",
        "\n",
        "`\n",
        "edad=10\n",
        "print(edad)\n",
        "\n",
        "`"
      ]
    },
    {
      "cell_type": "code",
      "metadata": {
        "id": "vslpxemdGdMh",
        "outputId": "389b3982-cbdd-44e5-8bca-7e42cee32757",
        "colab": {
          "base_uri": "https://localhost:8080/",
          "height": 34
        }
      },
      "source": [
        "frutas =[]\n",
        "frutas.append('manzana')\n",
        "frutas.append('piña')\n",
        "frutas.append('kiwwi')\n",
        "print(frutas)"
      ],
      "execution_count": 2,
      "outputs": [
        {
          "output_type": "stream",
          "text": [
            "['manzana', 'piña', 'kiwwi']\n"
          ],
          "name": "stdout"
        }
      ]
    },
    {
      "cell_type": "code",
      "metadata": {
        "id": "KJAzDLgcHspg"
      },
      "source": [
        "archivo = open('prueba_diseño_analisis_algoritmos.txt','wt')\n",
        "archivo.write(\"Hola mundo Jupyter\")\n",
        "archivo.close()"
      ],
      "execution_count": 3,
      "outputs": []
    }
  ]
}