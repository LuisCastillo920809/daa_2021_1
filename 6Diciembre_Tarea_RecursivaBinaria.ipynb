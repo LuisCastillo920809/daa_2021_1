{
  "nbformat": 4,
  "nbformat_minor": 0,
  "metadata": {
    "colab": {
      "name": "6Diciembre_Tarea_RecursivaBinaria.ipynb",
      "provenance": [],
      "collapsed_sections": [],
      "authorship_tag": "ABX9TyOUdSVqsVio2b6Bz+2AXBJB",
      "include_colab_link": true
    },
    "kernelspec": {
      "name": "python3",
      "display_name": "Python 3"
    }
  },
  "cells": [
    {
      "cell_type": "markdown",
      "metadata": {
        "id": "view-in-github",
        "colab_type": "text"
      },
      "source": [
        "<a href=\"https://colab.research.google.com/github/LuisCastillo920809/daa_2021_1/blob/master/6Diciembre_Tarea_RecursivaBinaria.ipynb\" target=\"_parent\"><img src=\"https://colab.research.google.com/assets/colab-badge.svg\" alt=\"Open In Colab\"/></a>"
      ]
    },
    {
      "cell_type": "code",
      "metadata": {
        "colab": {
          "base_uri": "https://localhost:8080/"
        },
        "id": "SYP5Rj1atVgW",
        "outputId": "bde92608-978a-4305-d43c-3bc7f28a27f7"
      },
      "source": [
        "alumno1={'id':2, 'nombre':\"Juan\" , 'carrera':\"ICO\", 'promedio':7.67}\n",
        "alumno2={'id':4, 'nombre':\"Rocio\" , 'carrera':\"ICI\", 'promedio':8.67}\n",
        "alumno3={'id':5, 'nombre':\"Diego\" , 'carrera':\"DER\", 'promedio':8.98}\n",
        "alumno4={'id':7, 'nombre':\"May\" , 'carrera':\"ICI\", 'promedio':9.87}\n",
        "alumno5={'id':9, 'nombre':\"Rob\" , 'carrera':\"IME\", 'promedio':10.00}\n",
        "alumno6={'id':10, 'nombre':\"Santi\" , 'carrera':\"ICO\", 'promedio':5.37}\n",
        "alumno7={'id':14, 'nombre':\"Moy\" , 'carrera':\"IME\", 'promedio':6.85}\n",
        "alumno8={'id':16, 'nombre':\"Diana\" , 'carrera':\"DER\", 'promedio':9.99}\n",
        "alumno9={'id':19, 'nombre':\"Zoila\" , 'carrera':\"ICO\", 'promedio':8.22}\n",
        "alumno10={'id':22, 'nombre':\"Armando\" , 'carrera':\"ICO\", 'promedio':7.32}\n",
        "\n",
        "\n",
        "bd = []\n",
        "bd.append(alumno1)\n",
        "bd.append(alumno2)\n",
        "bd.append(alumno3)\n",
        "bd.append(alumno4)\n",
        "bd.append(alumno5)\n",
        "bd.append(alumno6)\n",
        "bd.append(alumno7)\n",
        "bd.append(alumno8)\n",
        "bd.append(alumno9)\n",
        "bd.append(alumno10)\n",
        "\n",
        "\n",
        "\n",
        "dato= int(input(\"Cual es el ID que deseas buscar:\\n\"))\n",
        "min=0\n",
        "max=len(bd)-1\n",
        "\n",
        "def buscar(bd, dato,min,max):\n",
        "    try:\n",
        "        medio=(min+max)//2\n",
        "        if dato <= bd[medio]['id']:    \n",
        "            if dato == bd[medio]['id']:\n",
        "                print(f\"{bd[medio]['nombre']} estudia la carrera {bd[medio]['carrera']} y tiene un promedio de {bd[medio]['promedio']}\") \n",
        "            else:\n",
        "                medio-=1\n",
        "                buscar(bd, dato, min, medio)\n",
        "        elif dato> bd[medio]['id']:\n",
        "            if dato == bd[medio]['id'] and medio > 0:\n",
        "                print(f\"{bd[medio]['nombre']} estudia la carrera {bd[medio]['carrera']} y tiene un promedio de {bd[medio]['promedio']}\") \n",
        "            else:\n",
        "                medio+=1\n",
        "                buscar(bd, dato, medio, max)\n",
        "    except:\n",
        "        print(\"El alumno no existe en la base de datos.\")\n",
        "\n",
        "\n",
        "buscar(bd, dato, min, max)"
      ],
      "execution_count": 5,
      "outputs": [
        {
          "output_type": "stream",
          "text": [
            "Cual es el ID que deseas buscar:\n",
            "16\n",
            "Diana estudia la carrera DER y tiene un promedio de 9.99\n"
          ],
          "name": "stdout"
        }
      ]
    },
    {
      "cell_type": "code",
      "metadata": {
        "colab": {
          "base_uri": "https://localhost:8080/"
        },
        "id": "s80vOaMWtj3a",
        "outputId": "2ed5ad66-7eaa-4e78-dd25-7574e787f1ff"
      },
      "source": [
        "alumno1={'id':2, 'nombre':\"Juan\" , 'carrera':\"ICO\", 'promedio':7.67}\n",
        "alumno2={'id':4, 'nombre':\"Rocio\" , 'carrera':\"ICI\", 'promedio':8.67}\n",
        "alumno3={'id':5, 'nombre':\"Diego\" , 'carrera':\"DER\", 'promedio':8.98}\n",
        "alumno4={'id':7, 'nombre':\"May\" , 'carrera':\"ICI\", 'promedio':9.87}\n",
        "alumno5={'id':9, 'nombre':\"Rob\" , 'carrera':\"IME\", 'promedio':10.00}\n",
        "alumno6={'id':10, 'nombre':\"Santi\" , 'carrera':\"ICO\", 'promedio':5.37}\n",
        "alumno7={'id':14, 'nombre':\"Moy\" , 'carrera':\"IME\", 'promedio':6.85}\n",
        "alumno8={'id':16, 'nombre':\"Diana\" , 'carrera':\"DER\", 'promedio':9.99}\n",
        "alumno9={'id':19, 'nombre':\"Zoila\" , 'carrera':\"ICO\", 'promedio':8.22}\n",
        "alumno10={'id':22, 'nombre':\"Armando\" , 'carrera':\"ICO\", 'promedio':7.32}\n",
        "\n",
        "\n",
        "bd = []\n",
        "bd.append(alumno1)\n",
        "bd.append(alumno2)\n",
        "bd.append(alumno3)\n",
        "bd.append(alumno4)\n",
        "bd.append(alumno5)\n",
        "bd.append(alumno6)\n",
        "bd.append(alumno7)\n",
        "bd.append(alumno8)\n",
        "bd.append(alumno9)\n",
        "bd.append(alumno10)\n",
        "\n",
        "\n",
        "\n",
        "dato= int(input(\"Cual es el ID que deseas buscar:\\n\"))\n",
        "min=0\n",
        "max=len(bd)-1\n",
        "\n",
        "def buscar(bd, dato,min,max):\n",
        "    try:\n",
        "        medio=(min+max)//2\n",
        "        if dato <= bd[medio]['id']:    \n",
        "            if dato == bd[medio]['id']:\n",
        "                print(f\"{bd[medio]['nombre']} estudia la carrera {bd[medio]['carrera']} y tiene un promedio de {bd[medio]['promedio']}\") \n",
        "            else:\n",
        "                medio-=1\n",
        "                buscar(bd, dato, min, medio)\n",
        "        elif dato> bd[medio]['id']:\n",
        "            if dato == bd[medio]['id'] and medio > 0:\n",
        "                print(f\"{bd[medio]['nombre']} estudia la carrera {bd[medio]['carrera']} y tiene un promedio de {bd[medio]['promedio']}\") \n",
        "            else:\n",
        "                medio+=1\n",
        "                buscar(bd, dato, medio, max)\n",
        "    except:\n",
        "        print(\"El alumno no existe en la base de datos.\")\n",
        "\n",
        "\n",
        "buscar(bd, dato, min, max)"
      ],
      "execution_count": 6,
      "outputs": [
        {
          "output_type": "stream",
          "text": [
            "Cual es el ID que deseas buscar:\n",
            "15\n",
            "El alumno no existe en la base de datos.\n"
          ],
          "name": "stdout"
        }
      ]
    }
  ]
}