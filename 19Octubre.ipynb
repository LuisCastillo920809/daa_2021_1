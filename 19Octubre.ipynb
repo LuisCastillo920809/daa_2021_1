{
  "nbformat": 4,
  "nbformat_minor": 0,
  "metadata": {
    "colab": {
      "name": "19Octubre.ipynb",
      "provenance": [],
      "authorship_tag": "ABX9TyMWCAiWAqgQ9guakwEv19tw",
      "include_colab_link": true
    },
    "kernelspec": {
      "name": "python3",
      "display_name": "Python 3"
    }
  },
  "cells": [
    {
      "cell_type": "markdown",
      "metadata": {
        "id": "view-in-github",
        "colab_type": "text"
      },
      "source": [
        "<a href=\"https://colab.research.google.com/github/LuisCastillo920809/daa_2021_1/blob/master/19Octubre.ipynb\" target=\"_parent\"><img src=\"https://colab.research.google.com/assets/colab-badge.svg\" alt=\"Open In Colab\"/></a>"
      ]
    },
    {
      "cell_type": "code",
      "metadata": {
        "id": "MnVsssZsDdLA",
        "outputId": "8b5a5396-1e66-444c-99bb-86c5b2826419",
        "colab": {
          "base_uri": "https://localhost:8080/",
          "height": 727
        }
      },
      "source": [
        "\"\"\"\n",
        "a2d = [[3,2,1],\n",
        "       [6,4,8],\n",
        "       [7,4,2]]\n",
        "n = 3\n",
        "print(a2d)\n",
        "\n",
        "total = 0  #asignación (1)\n",
        "print(\"nivel 1\")\n",
        "for renglon in range(n):\n",
        "  sumaRenglon= 0\n",
        "  print(\"nivel 2\")\n",
        "  for columna in range(n):\n",
        "    sumaRenglon += a2d[renglon][columna]\n",
        "    total += a2d[renglon][columna]\n",
        "    print(\"nivel 3\")\n",
        "print(total)\n",
        "\"\"\"\n",
        "\n",
        "def ejemplo4(n):\n",
        "  print(\"Nivel1\")\n",
        "  count =0\n",
        "  i=n\n",
        "  while i >= 1:\n",
        "    print(\"Nivel2\")\n",
        "    count+=1\n",
        "    i=i//2\n",
        "  basura=3+2\n",
        "  return count\n",
        "\n",
        "\n",
        "print(\"------------Comienza la prueba----------------------\")\n",
        "variable= ejemplo4(6)\n",
        "print(f\"El numero de procesos fueron: {variable}\")\n",
        "print(\"---------------------------------------\")\n",
        "variable= ejemplo4(13)\n",
        "print(f\"El numero de procesos fueron: {variable}\")\n",
        "print(\"---------------------------------------\")\n",
        "variable= ejemplo4(25)\n",
        "print(f\"El numero de procesos fueron: {variable}\")\n",
        "print(\"---------------------------------------\")\n",
        "variable= ejemplo4(50)\n",
        "print(f\"El numero de procesos fueron: {variable}\")\n",
        "print(\"---------------------------------------\")\n",
        "variable= ejemplo4(100)\n",
        "print(f\"El numero de procesos fueron: {variable}\")\n",
        "\n"
      ],
      "execution_count": 19,
      "outputs": [
        {
          "output_type": "stream",
          "text": [
            "------------Comienza la prueba----------------------\n",
            "Nivel1\n",
            "Nivel2\n",
            "Nivel2\n",
            "Nivel2\n",
            "El numero de procesos fueron: 3\n",
            "---------------------------------------\n",
            "Nivel1\n",
            "Nivel2\n",
            "Nivel2\n",
            "Nivel2\n",
            "Nivel2\n",
            "El numero de procesos fueron: 4\n",
            "---------------------------------------\n",
            "Nivel1\n",
            "Nivel2\n",
            "Nivel2\n",
            "Nivel2\n",
            "Nivel2\n",
            "Nivel2\n",
            "El numero de procesos fueron: 5\n",
            "---------------------------------------\n",
            "Nivel1\n",
            "Nivel2\n",
            "Nivel2\n",
            "Nivel2\n",
            "Nivel2\n",
            "Nivel2\n",
            "Nivel2\n",
            "El numero de procesos fueron: 6\n",
            "---------------------------------------\n",
            "Nivel1\n",
            "Nivel2\n",
            "Nivel2\n",
            "Nivel2\n",
            "Nivel2\n",
            "Nivel2\n",
            "Nivel2\n",
            "Nivel2\n",
            "El numero de procesos fueron: 7\n"
          ],
          "name": "stdout"
        }
      ]
    },
    {
      "cell_type": "code",
      "metadata": {
        "id": "2CZqVRa6YD0a"
      },
      "source": [
        ""
      ],
      "execution_count": 12,
      "outputs": []
    }
  ]
}