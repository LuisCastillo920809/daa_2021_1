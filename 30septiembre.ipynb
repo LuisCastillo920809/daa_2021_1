{
  "nbformat": 4,
  "nbformat_minor": 0,
  "metadata": {
    "colab": {
      "name": "30septiembre.ipynb",
      "provenance": [],
      "collapsed_sections": [],
      "authorship_tag": "ABX9TyMT2QpCBT083dpUwlmzRv29",
      "include_colab_link": true
    },
    "kernelspec": {
      "name": "python3",
      "display_name": "Python 3"
    }
  },
  "cells": [
    {
      "cell_type": "markdown",
      "metadata": {
        "id": "view-in-github",
        "colab_type": "text"
      },
      "source": [
        "<a href=\"https://colab.research.google.com/github/LuisCastillo920809/daa_2021_1/blob/master/30septiembre.ipynb\" target=\"_parent\"><img src=\"https://colab.research.google.com/assets/colab-badge.svg\" alt=\"Open In Colab\"/></a>"
      ]
    },
    {
      "cell_type": "markdown",
      "metadata": {
        "id": "Dl17t4DLQLlc"
      },
      "source": [
        "#PalindromoPalindromo\n",
        "\n",
        "Es una palabra que lee, de igual forma de un sentido que del inverso, ejemplo:\n",
        "\n",
        "1.sugus\n",
        "2.oso  \n",
        "3.reconocer\n",
        "4.10101\n",
        "5.10:01\n",
        "\n",
        "### se plantea el siguiente programa \n",
        "\n",
        "Se desea encontrar todos lo palindromospalindromos que existen en la franja horaria de un dia completo tomando como horario 00:00 asi como el horario final 23:59 horas \n",
        "El algoritmo debe mostrar en pantalla todos los palindromospalindromos existentes en el rango, al final debe mostrar el conteo de total de palindromopalindromo existentes \n"
      ]
    },
    {
      "cell_type": "code",
      "metadata": {
        "id": "XUhqnuWjSLgG",
        "outputId": "bba21a69-1325-4080-c6b5-351991595514",
        "colab": {
          "base_uri": "https://localhost:8080/",
          "height": 51
        }
      },
      "source": [
        "contador =0\n",
        "for hora in range(0,24):\n",
        "  for min in range(0,60):\n",
        "    if hora <=9:\n",
        "      izq=\"0\"+str(hora)\n",
        "    if min <= 9:\n",
        "      der=\"0\"+str(min)\n",
        "    if der==izq[::-1]:\n",
        "      contador = contador + 1\n",
        "      print(der + \":\" + izq)\n",
        "print(f\"son en total: {contador}\")\n",
        "  \n",
        "\n",
        "  \n",
        "  \n",
        "\n",
        "\n"
      ],
      "execution_count": 59,
      "outputs": [
        {
          "output_type": "stream",
          "text": [
            "00:00\n",
            "son en total: 1\n"
          ],
          "name": "stdout"
        }
      ]
    },
    {
      "cell_type": "code",
      "metadata": {
        "id": "uzOarF6eP70L"
      },
      "source": [
        ""
      ],
      "execution_count": null,
      "outputs": []
    }
  ]
}