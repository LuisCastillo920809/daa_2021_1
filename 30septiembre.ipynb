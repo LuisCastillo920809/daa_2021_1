{
  "nbformat": 4,
  "nbformat_minor": 0,
  "metadata": {
    "colab": {
      "name": "30septiembre.ipynb",
      "provenance": [],
      "collapsed_sections": [],
      "authorship_tag": "ABX9TyP41TAyIGqYOxAyGDlacG6/",
      "include_colab_link": true
    },
    "kernelspec": {
      "name": "python3",
      "display_name": "Python 3"
    }
  },
  "cells": [
    {
      "cell_type": "markdown",
      "metadata": {
        "id": "view-in-github",
        "colab_type": "text"
      },
      "source": [
        "<a href=\"https://colab.research.google.com/github/LuisCastillo920809/daa_2021_1/blob/master/30septiembre.ipynb\" target=\"_parent\"><img src=\"https://colab.research.google.com/assets/colab-badge.svg\" alt=\"Open In Colab\"/></a>"
      ]
    },
    {
      "cell_type": "markdown",
      "metadata": {
        "id": "Dl17t4DLQLlc"
      },
      "source": [
        "#PalindromoPalindromo\n",
        "\n",
        "Es una palabra que lee, de igual forma de un sentido que del inverso, ejemplo:\n",
        "\n",
        "1.sugus\n",
        "2.oso  \n",
        "3.reconocer\n",
        "4.10101\n",
        "5.10:01\n",
        "\n",
        "### se plantea el siguiente programa \n",
        "\n",
        "Se desea encontrar todos lo palindromospalindromos que existen en la franja horaria de un dia completo tomando como horario 00:00 asi como el horario final 23:59 horas \n",
        "El algoritmo debe mostrar en pantalla todos los palindromospalindromos existentes en el rango, al final debe mostrar el conteo de total de palindromopalindromo existentes \n"
      ]
    },
    {
      "cell_type": "code",
      "metadata": {
        "id": "aTczz9qVpMWx",
        "outputId": "4ed0d9ef-f56b-4607-dc31-36609b719155",
        "colab": {
          "base_uri": "https://localhost:8080/",
          "height": 348
        }
      },
      "source": [
        "contador = int(0)\n",
        "for hora in range(0,24):\n",
        "  for min in range(0,60):\n",
        "    izq = str(hora)\n",
        "    der = str(min)\n",
        "    if (hora<10):\n",
        "      izq = (\"0\"+izq)\n",
        "    if (min<10):\n",
        "      der = (\"0\"+ der)\n",
        "    if (izq[::-1] == der):\n",
        "      print(izq + \":\" + der + \" es palindromo\")\n",
        "      contador +=1\n",
        "\n",
        "print(\"Total: \"+ str(contador))"
      ],
      "execution_count": 73,
      "outputs": [
        {
          "output_type": "stream",
          "text": [
            "00:00 es paindromo\n",
            "01:10 es paindromo\n",
            "02:20 es paindromo\n",
            "03:30 es paindromo\n",
            "04:40 es paindromo\n",
            "05:50 es paindromo\n",
            "10:01 es paindromo\n",
            "11:11 es paindromo\n",
            "12:21 es paindromo\n",
            "13:31 es paindromo\n",
            "14:41 es paindromo\n",
            "15:51 es paindromo\n",
            "20:02 es paindromo\n",
            "21:12 es paindromo\n",
            "22:22 es paindromo\n",
            "23:32 es paindromo\n",
            "Total: 16\n"
          ],
          "name": "stdout"
        }
      ]
    }
  ]
}