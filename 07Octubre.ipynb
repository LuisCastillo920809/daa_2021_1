{
  "nbformat": 4,
  "nbformat_minor": 0,
  "metadata": {
    "colab": {
      "name": "07Octubre.ipynb",
      "provenance": [],
      "collapsed_sections": [],
      "authorship_tag": "ABX9TyM1vcHQhWTh5DA83mEvSIcw",
      "include_colab_link": true
    },
    "kernelspec": {
      "name": "python3",
      "display_name": "Python 3"
    }
  },
  "cells": [
    {
      "cell_type": "markdown",
      "metadata": {
        "id": "view-in-github",
        "colab_type": "text"
      },
      "source": [
        "<a href=\"https://colab.research.google.com/github/LuisCastillo920809/daa_2021_1/blob/master/07Octubre.ipynb\" target=\"_parent\"><img src=\"https://colab.research.google.com/assets/colab-badge.svg\" alt=\"Open In Colab\"/></a>"
      ]
    },
    {
      "cell_type": "markdown",
      "metadata": {
        "id": "zkbWlqoMTZQe"
      },
      "source": [
        "###BUSQUEDA LINEAL\n",
        "Dado un cojunto de datos o ordenados, la busqueda lineal consiste en recorrer el conjunto de datos desde el inicio al final, moviendose de uno en uno hasta encontrar el elemento o llegar al final del conjunto.\n",
        "\n",
        "datos = [ 4,18,47,2,34,14,78,12,48,21,31,19,1,3,5]\n",
        "\n",
        "\n",
        "###BUSQUEDA BINARIA\n",
        "La busqueda binaria esta funciona sobre un conjunto de datos lineal ordenado consiste en dividir el conjunto en mitades y buscar en esa mitad si el elemento buscado no esta en la mitad preguntas si el elemento esta a la derecha o a la izquierda, haces la lista a la mitad correspondiente y repites el proceso \n",
        "L= [1, 2, 3, 4, 5, 12, 14, 18, 19, 21, 31, 34, 47, 48, 78]\n",
        "\n",
        "DER = longitud (L) -1\n",
        "\n",
        "IZQ = 0\n",
        "\n",
        "MID apuntara a la mitad del segmento de busqueda \n",
        "\n",
        "buscado = elemento a buscar\n",
        "\n",
        "1.Hacer DER = longitud (L) -1\n",
        "2.Hacer IZQ = 0\n",
        "3.Si IZQ > DER significa que hay un error en los datos\n",
        "4.Calcular MID = int((IZQ + DER)/2)\n",
        "5.Mientras L(MID) != buscado hacer\n",
        "6.    - Preguntar L(MID) > buscado\n",
        "        -  hacer DER = MID\n",
        "      - de lo contrario\n",
        "        -  hacer IZQ = MID\n",
        "      - preguntar (DER - IZQ) %2\n",
        "        -  MID = (IZQ + ( (DER - IZQ)/2 ) ) +1\n",
        "      - de lo contrario \n",
        "        -  MID = (IZQ + ( (DER - IZQ)/2 ) )\n",
        "7. Rrturn MID\n",
        "\n"
      ]
    },
    {
      "cell_type": "code",
      "metadata": {
        "id": "VM9GQuO0TWQX",
        "outputId": "6d3a494a-0ef6-4492-ca72-9840b21b022a",
        "colab": {
          "base_uri": "https://localhost:8080/"
        }
      },
      "source": [
        "\"\"\"\n",
        "Busqueda lineal.\n",
        "regresa la posicion del elemento 'buscado' si se encuentra en la lista\n",
        "regresa -1 si el elemento no existe dentro de la lista\n",
        "\"\"\"\n",
        "def busq_lineal(L,buscado):\n",
        "  indice=-1\n",
        "  contador= 0\n",
        "  for idx in range(len(L)):\n",
        "    contador +=1\n",
        "    if L[idx]==buscado:\n",
        "      indice=idx\n",
        "      break\n",
        "  print(f\"Numero de iteraciones realizadas es: {contador}\")\n",
        "  return indice\n",
        "\"\"\"\n",
        "busqueda binaria\n",
        "\"\"\"\n",
        "def busqueda_binaria(L, buscado):\n",
        "  IZQ = 0\n",
        "  DER = len(L) -1\n",
        "  MID = int((IZQ + DER / 2))\n",
        "  if len(L) %2 == 0:\n",
        "    MID = (DER //2)+1\n",
        "  else:\n",
        "    MID=(IZQ //2)\n",
        "\n",
        "  while (L[MID] != buscado):\n",
        "    if L[MID] > buscado:\n",
        "      DER = MID\n",
        "    else:\n",
        "      IZQ = MID\n",
        "    if (DER - IZQ) %2 == 0:\n",
        "      MID = (IZQ+((DER-IZQ)//2))+1\n",
        "    else:\n",
        "      MID = IZQ +((DER-IZQ)//2)\n",
        "\n",
        "def main():\n",
        "  datos=[4,18,47,2,34,14,78,12,48,21,31,19,1,3,5]\n",
        "  dato=int(input(\"¿Que valor quieres buscar?\"))\n",
        "  resultado= busq_lineal(datos,dato)\n",
        "  print(\"Resultado: \", resultado)\n",
        "  print(\"Busqueda de lista ordenada\")\n",
        "  datos.sort()\n",
        "  print(datos)\n",
        "  resultado= busq_lineal(datos,dato)\n",
        "  print(\"Resultado: \", resultado)\n",
        "  print(\"busqueda binaria\")\n",
        "  posicion = busqueda_binaria( datos, dato)\n",
        "  print(f\"El elemento {dato} esta en la posición {posicion} de la lista\")\n",
        "main()\n",
        "\n"
      ],
      "execution_count": 6,
      "outputs": [
        {
          "output_type": "stream",
          "text": [
            "¿Que valor quieres buscar?3\n",
            "Numero de iteraciones realizadas es: 14\n",
            "Resultado:  13\n",
            "Busqueda de lista ordenada\n",
            "[1, 2, 3, 4, 5, 12, 14, 18, 19, 21, 31, 34, 47, 48, 78]\n",
            "Numero de iteraciones realizadas es: 3\n",
            "Resultado:  2\n"
          ],
          "name": "stdout"
        }
      ]
    }
  ]
}