{
  "nbformat": 4,
  "nbformat_minor": 0,
  "metadata": {
    "colab": {
      "name": "05Octubre_dda.ipynb",
      "provenance": [],
      "authorship_tag": "ABX9TyN3levOWezEwtAW6kXqco8g",
      "include_colab_link": true
    },
    "kernelspec": {
      "name": "python3",
      "display_name": "Python 3"
    }
  },
  "cells": [
    {
      "cell_type": "markdown",
      "metadata": {
        "id": "view-in-github",
        "colab_type": "text"
      },
      "source": [
        "<a href=\"https://colab.research.google.com/github/LuisCastillo920809/daa_2021_1/blob/master/05Octubre_dda.ipynb\" target=\"_parent\"><img src=\"https://colab.research.google.com/assets/colab-badge.svg\" alt=\"Open In Colab\"/></a>"
      ]
    },
    {
      "cell_type": "markdown",
      "metadata": {
        "id": "UbJ3DFVB_tm6"
      },
      "source": [
        "#Estructura de datos pila (Stack)\n",
        "LIFO Last Int Last Out \n",
        "DE tipo lineal\n",
        "Se pueden agregar o quitar elementos desde el tope\n",
        "Push para agregar \n",
        "Pop para quitar \n",
        "\n",
        "\n",
        "Operaciones de un pila\n",
        "1.- is_emply (regressa true o false)\n",
        "2.- get_top(regresa el elemento del tope SIN SACARLO)\n",
        "3.-pop(Saca el elemento del tope y lo regresa)\n",
        "4.-push(mete elemento en el tope)\n",
        "5.-get_lenght(regresa la cantidad de elementos en la pila)"
      ]
    },
    {
      "cell_type": "markdown",
      "metadata": {
        "id": "fHHrSQ0wKNSB"
      },
      "source": [
        "x=4+5+3+6+7\n",
        "x=4+(5+3)+6+7\n",
        "\n",
        "reglas\n",
        "### '('---> push('@')\n",
        "### ')'---> pop()\n",
        "\n",
        "Hacer un programa que valide el balanceo de '()' '[]' '{}'\n",
        "en programas del lenguaje c y java\n",
        "tomando en base el codigo de hoy\n"
      ]
    },
    {
      "cell_type": "code",
      "metadata": {
        "id": "y_Nn2nA1_CjZ"
      },
      "source": [
        "class Stack():\n",
        "  def __init__(self):\n",
        "    self.__datos= []\n",
        "\n",
        "  def in_empty(self):\n",
        "    return len(self.__datos)==0\n",
        "\n",
        "  def get_top(self):\n",
        "    return self.__datos[-1]\n",
        "\n",
        "  def pop(self):\n",
        "    return self.__datos.pop()\n",
        "\n",
        "  def push(self, valor):\n",
        "    self.__datos.append(valor)\n",
        "\n",
        "  def get_length(self):\n",
        "    return len(self.__datos)\n",
        "\n",
        "  def to_String(self):\n",
        "    print(\"-------------------------\")\n",
        "    for ele in self.__datos[-1::-1]:\n",
        "      print(f\"{ele}\")\n",
        "    print(\"-------------------------\")\n"
      ],
      "execution_count": 5,
      "outputs": []
    },
    {
      "cell_type": "code",
      "metadata": {
        "id": "F-nIHdzbFVY8",
        "outputId": "6241dff4-b4ef-4724-d865-3ae8b46973dc",
        "colab": {
          "base_uri": "https://localhost:8080/",
          "height": 407
        }
      },
      "source": [
        "pila1= Stack()\n",
        "pila1.push(103)\n",
        "pila1.push(10)\n",
        "pila1.push(14)\n",
        "pila1.push(20)\n",
        "pila1.to_String()\n",
        "\n",
        "sacado=pila1.pop()\n",
        "print(sacado)\n",
        "pila1.to_String()\n",
        "\n",
        "pila1.push(105)\n",
        "pila1.push(44)\n",
        "pila1.to_String()\n",
        "\n",
        "print(f\"El elemento en el tope es: {pila1.get_top()}\")\n",
        "pila1.to_String\n",
        "print(f\"Los elementos en la pila son: {pila1.get_length()}\")\n",
        "print(f\"La pila esta vacia?  {pila1.in_empty()}\")\n"
      ],
      "execution_count": 11,
      "outputs": [
        {
          "output_type": "stream",
          "text": [
            "-------------------------\n",
            "20\n",
            "14\n",
            "10\n",
            "103\n",
            "-------------------------\n",
            "20\n",
            "-------------------------\n",
            "14\n",
            "10\n",
            "103\n",
            "-------------------------\n",
            "-------------------------\n",
            "44\n",
            "105\n",
            "14\n",
            "10\n",
            "103\n",
            "-------------------------\n",
            "El elemento en el tope es: 44\n",
            "Los elementos en la pila son: 5\n",
            "La pila esta vacia?:False\n"
          ],
          "name": "stdout"
        }
      ]
    }
  ]
}